{
 "cells": [
  {
   "cell_type": "code",
   "execution_count": 3,
   "id": "4358c2ac-737b-4bc9-9042-661271a5754f",
   "metadata": {},
   "outputs": [
    {
     "name": "stdout",
     "output_type": "stream",
     "text": [
      "TextBlob sentiment: (1.0, 0.75)\n",
      "Vader sentiment: {'neg': 0.0, 'neu': 0.532, 'pos': 0.468, 'compound': 0.6588}\n"
     ]
    }
   ],
   "source": [
    "from clausal_sentiment_analysis.sentiment import analyze_textblob, analyze_vader\n",
    "\n",
    "text = \"This research project is going great!\"\n",
    "print(\"TextBlob sentiment:\", analyze_textblob(text))\n",
    "print(\"Vader sentiment:\", analyze_vader(text))"
   ]
  },
  {
   "cell_type": "code",
   "execution_count": null,
   "id": "a5bd93f5-6af2-4171-9b5c-6ff133331871",
   "metadata": {},
   "outputs": [],
   "source": []
  }
 ],
 "metadata": {
  "kernelspec": {
   "display_name": "Python 3 (ipykernel)",
   "language": "python",
   "name": "python3"
  },
  "language_info": {
   "codemirror_mode": {
    "name": "ipython",
    "version": 3
   },
   "file_extension": ".py",
   "mimetype": "text/x-python",
   "name": "python",
   "nbconvert_exporter": "python",
   "pygments_lexer": "ipython3",
   "version": "3.12.7"
  }
 },
 "nbformat": 4,
 "nbformat_minor": 5
}
